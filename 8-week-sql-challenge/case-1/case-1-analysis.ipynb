{
 "cells": [
  {
   "cell_type": "markdown",
   "id": "c47b279a",
   "metadata": {},
   "source": [
    "## Case Study Questions\n",
    "\n",
    "1. What is the total amount each customer spent at the restaurant?\n",
    "2. How many days has each customer visited the restaurant?\n",
    "3. What was the first item from the menu purchased by each customer?\n",
    "4. What is the most purchased item on the menu and how many times was it purchased by all customers?\n",
    "5. Which item was the most popular for each customer?\n",
    "6. Which item was purchased first by the customer after they became a member?\n",
    "7. Which item was purchased just before the customer became a member?\n",
    "8. What is the total items and amount spent for each member before they became a member?\n",
    "9.  If each $1 spent equates to 10 points and sushi has a 2x points multiplier - how many points would each customer have?\n",
    "10. In the first week after a customer joins the program (including their join date) they earn 2x points on all items, not just sushi - how many points do customer A and B have at the end of January?"
   ]
  },
  {
   "cell_type": "markdown",
   "id": "1e22e50b",
   "metadata": {},
   "source": [
    "## import data"
   ]
  },
  {
   "cell_type": "code",
   "execution_count": 26,
   "id": "d23de7c4",
   "metadata": {},
   "outputs": [],
   "source": [
    "import polars as pl\n",
    "import duckdb\n",
    "\n",
    "db = '~/repos/db-butters/8-week-sql-challenge/case-1/case-1.duckdb'\n",
    "con = duckdb.connect(db, read_only=True)\n",
    "\n",
    "sales = con.sql('from dannys_diner.sales;').pl()\n",
    "menu = con.sql('from dannys_diner.menu;').pl()\n",
    "members = con.sql('from dannys_diner.members;').pl()\n",
    "\n",
    "con.close()"
   ]
  },
  {
   "cell_type": "markdown",
   "id": "aba31e8d",
   "metadata": {},
   "source": [
    "### sales table"
   ]
  },
  {
   "cell_type": "code",
   "execution_count": 65,
   "id": "f110e55a",
   "metadata": {},
   "outputs": [
    {
     "data": {
      "text/html": [
       "<div><style>\n",
       ".dataframe > thead > tr,\n",
       ".dataframe > tbody > tr {\n",
       "  text-align: right;\n",
       "  white-space: pre-wrap;\n",
       "}\n",
       "</style>\n",
       "<small>shape: (10, 3)</small><table border=\"1\" class=\"dataframe\"><thead><tr><th>customer_id</th><th>order_date</th><th>product_id</th></tr><tr><td>str</td><td>date</td><td>i32</td></tr></thead><tbody><tr><td>&quot;A&quot;</td><td>2021-01-01</td><td>1</td></tr><tr><td>&quot;A&quot;</td><td>2021-01-01</td><td>2</td></tr><tr><td>&quot;A&quot;</td><td>2021-01-07</td><td>2</td></tr><tr><td>&quot;A&quot;</td><td>2021-01-10</td><td>3</td></tr><tr><td>&quot;A&quot;</td><td>2021-01-11</td><td>3</td></tr><tr><td>&quot;A&quot;</td><td>2021-01-11</td><td>3</td></tr><tr><td>&quot;B&quot;</td><td>2021-01-01</td><td>2</td></tr><tr><td>&quot;B&quot;</td><td>2021-01-02</td><td>2</td></tr><tr><td>&quot;B&quot;</td><td>2021-01-04</td><td>1</td></tr><tr><td>&quot;B&quot;</td><td>2021-01-11</td><td>1</td></tr></tbody></table></div>"
      ],
      "text/plain": [
       "shape: (10, 3)\n",
       "┌─────────────┬────────────┬────────────┐\n",
       "│ customer_id ┆ order_date ┆ product_id │\n",
       "│ ---         ┆ ---        ┆ ---        │\n",
       "│ str         ┆ date       ┆ i32        │\n",
       "╞═════════════╪════════════╪════════════╡\n",
       "│ A           ┆ 2021-01-01 ┆ 1          │\n",
       "│ A           ┆ 2021-01-01 ┆ 2          │\n",
       "│ A           ┆ 2021-01-07 ┆ 2          │\n",
       "│ A           ┆ 2021-01-10 ┆ 3          │\n",
       "│ A           ┆ 2021-01-11 ┆ 3          │\n",
       "│ A           ┆ 2021-01-11 ┆ 3          │\n",
       "│ B           ┆ 2021-01-01 ┆ 2          │\n",
       "│ B           ┆ 2021-01-02 ┆ 2          │\n",
       "│ B           ┆ 2021-01-04 ┆ 1          │\n",
       "│ B           ┆ 2021-01-11 ┆ 1          │\n",
       "└─────────────┴────────────┴────────────┘"
      ]
     },
     "metadata": {},
     "output_type": "display_data"
    }
   ],
   "source": [
    "display(sales.head(10))"
   ]
  },
  {
   "cell_type": "markdown",
   "id": "e865bd45",
   "metadata": {},
   "source": [
    "### menu table"
   ]
  },
  {
   "cell_type": "code",
   "execution_count": 30,
   "id": "085699d5",
   "metadata": {},
   "outputs": [
    {
     "data": {
      "text/html": [
       "<div><style>\n",
       ".dataframe > thead > tr,\n",
       ".dataframe > tbody > tr {\n",
       "  text-align: right;\n",
       "  white-space: pre-wrap;\n",
       "}\n",
       "</style>\n",
       "<small>shape: (3, 3)</small><table border=\"1\" class=\"dataframe\"><thead><tr><th>product_id</th><th>product_name</th><th>price</th></tr><tr><td>i32</td><td>str</td><td>i32</td></tr></thead><tbody><tr><td>1</td><td>&quot;sushi&quot;</td><td>10</td></tr><tr><td>2</td><td>&quot;curry&quot;</td><td>15</td></tr><tr><td>3</td><td>&quot;ramen&quot;</td><td>12</td></tr></tbody></table></div>"
      ],
      "text/plain": [
       "shape: (3, 3)\n",
       "┌────────────┬──────────────┬───────┐\n",
       "│ product_id ┆ product_name ┆ price │\n",
       "│ ---        ┆ ---          ┆ ---   │\n",
       "│ i32        ┆ str          ┆ i32   │\n",
       "╞════════════╪══════════════╪═══════╡\n",
       "│ 1          ┆ sushi        ┆ 10    │\n",
       "│ 2          ┆ curry        ┆ 15    │\n",
       "│ 3          ┆ ramen        ┆ 12    │\n",
       "└────────────┴──────────────┴───────┘"
      ]
     },
     "metadata": {},
     "output_type": "display_data"
    }
   ],
   "source": [
    "display(menu)"
   ]
  },
  {
   "cell_type": "markdown",
   "id": "a5167a11",
   "metadata": {},
   "source": [
    "### members table"
   ]
  },
  {
   "cell_type": "code",
   "execution_count": 31,
   "id": "e4721e02",
   "metadata": {},
   "outputs": [
    {
     "data": {
      "text/html": [
       "<div><style>\n",
       ".dataframe > thead > tr,\n",
       ".dataframe > tbody > tr {\n",
       "  text-align: right;\n",
       "  white-space: pre-wrap;\n",
       "}\n",
       "</style>\n",
       "<small>shape: (2, 2)</small><table border=\"1\" class=\"dataframe\"><thead><tr><th>customer_id</th><th>join_date</th></tr><tr><td>str</td><td>date</td></tr></thead><tbody><tr><td>&quot;A&quot;</td><td>2021-01-07</td></tr><tr><td>&quot;B&quot;</td><td>2021-01-09</td></tr></tbody></table></div>"
      ],
      "text/plain": [
       "shape: (2, 2)\n",
       "┌─────────────┬────────────┐\n",
       "│ customer_id ┆ join_date  │\n",
       "│ ---         ┆ ---        │\n",
       "│ str         ┆ date       │\n",
       "╞═════════════╪════════════╡\n",
       "│ A           ┆ 2021-01-07 │\n",
       "│ B           ┆ 2021-01-09 │\n",
       "└─────────────┴────────────┘"
      ]
     },
     "metadata": {},
     "output_type": "display_data"
    }
   ],
   "source": [
    "display(members)"
   ]
  },
  {
   "cell_type": "markdown",
   "id": "95a042d8",
   "metadata": {},
   "source": [
    "## 1. total spent per customer"
   ]
  },
  {
   "cell_type": "code",
   "execution_count": 35,
   "id": "0de1211b",
   "metadata": {},
   "outputs": [
    {
     "data": {
      "text/html": [
       "<div><style>\n",
       ".dataframe > thead > tr,\n",
       ".dataframe > tbody > tr {\n",
       "  text-align: right;\n",
       "  white-space: pre-wrap;\n",
       "}\n",
       "</style>\n",
       "<small>shape: (3, 2)</small><table border=\"1\" class=\"dataframe\"><thead><tr><th>customer_id</th><th>total_spent</th></tr><tr><td>str</td><td>i32</td></tr></thead><tbody><tr><td>&quot;A&quot;</td><td>76</td></tr><tr><td>&quot;B&quot;</td><td>74</td></tr><tr><td>&quot;C&quot;</td><td>36</td></tr></tbody></table></div>"
      ],
      "text/plain": [
       "shape: (3, 2)\n",
       "┌─────────────┬─────────────┐\n",
       "│ customer_id ┆ total_spent │\n",
       "│ ---         ┆ ---         │\n",
       "│ str         ┆ i32         │\n",
       "╞═════════════╪═════════════╡\n",
       "│ A           ┆ 76          │\n",
       "│ B           ┆ 74          │\n",
       "│ C           ┆ 36          │\n",
       "└─────────────┴─────────────┘"
      ]
     },
     "execution_count": 35,
     "metadata": {},
     "output_type": "execute_result"
    }
   ],
   "source": [
    "(sales.join(menu, on='product_id')\n",
    "      .group_by('customer_id')\n",
    "      .agg(\n",
    "          pl.col('price').sum().alias('total_spent')\n",
    "      ).sort('customer_id')\n",
    ")"
   ]
  },
  {
   "cell_type": "markdown",
   "id": "008dcae7",
   "metadata": {},
   "source": [
    "## 2. customer days at restaurant"
   ]
  },
  {
   "cell_type": "code",
   "execution_count": 38,
   "id": "66f3d50a",
   "metadata": {},
   "outputs": [
    {
     "data": {
      "text/html": [
       "<div><style>\n",
       ".dataframe > thead > tr,\n",
       ".dataframe > tbody > tr {\n",
       "  text-align: right;\n",
       "  white-space: pre-wrap;\n",
       "}\n",
       "</style>\n",
       "<small>shape: (3, 2)</small><table border=\"1\" class=\"dataframe\"><thead><tr><th>customer_id</th><th>days_visited</th></tr><tr><td>str</td><td>u32</td></tr></thead><tbody><tr><td>&quot;A&quot;</td><td>4</td></tr><tr><td>&quot;B&quot;</td><td>6</td></tr><tr><td>&quot;C&quot;</td><td>2</td></tr></tbody></table></div>"
      ],
      "text/plain": [
       "shape: (3, 2)\n",
       "┌─────────────┬──────────────┐\n",
       "│ customer_id ┆ days_visited │\n",
       "│ ---         ┆ ---          │\n",
       "│ str         ┆ u32          │\n",
       "╞═════════════╪══════════════╡\n",
       "│ A           ┆ 4            │\n",
       "│ B           ┆ 6            │\n",
       "│ C           ┆ 2            │\n",
       "└─────────────┴──────────────┘"
      ]
     },
     "execution_count": 38,
     "metadata": {},
     "output_type": "execute_result"
    }
   ],
   "source": [
    "(sales.group_by('customer_id')\n",
    "      .agg(\n",
    "          pl.col('order_date').n_unique().alias('days_visited')\n",
    "      ).sort('customer_id')\n",
    ")"
   ]
  },
  {
   "cell_type": "markdown",
   "id": "0df78e2e",
   "metadata": {},
   "source": [
    "## 3. first item purchased by each customer"
   ]
  },
  {
   "cell_type": "code",
   "execution_count": 80,
   "id": "941745b5",
   "metadata": {},
   "outputs": [
    {
     "data": {
      "text/html": [
       "<div><style>\n",
       ".dataframe > thead > tr,\n",
       ".dataframe > tbody > tr {\n",
       "  text-align: right;\n",
       "  white-space: pre-wrap;\n",
       "}\n",
       "</style>\n",
       "<small>shape: (3, 3)</small><table border=\"1\" class=\"dataframe\"><thead><tr><th>customer_id</th><th>product_id</th><th>product_name</th></tr><tr><td>str</td><td>list[i32]</td><td>list[str]</td></tr></thead><tbody><tr><td>&quot;A&quot;</td><td>[1, 2]</td><td>[&quot;sushi&quot;, &quot;curry&quot;]</td></tr><tr><td>&quot;B&quot;</td><td>[2]</td><td>[&quot;curry&quot;]</td></tr><tr><td>&quot;C&quot;</td><td>[3, 3]</td><td>[&quot;ramen&quot;, &quot;ramen&quot;]</td></tr></tbody></table></div>"
      ],
      "text/plain": [
       "shape: (3, 3)\n",
       "┌─────────────┬────────────┬────────────────────┐\n",
       "│ customer_id ┆ product_id ┆ product_name       │\n",
       "│ ---         ┆ ---        ┆ ---                │\n",
       "│ str         ┆ list[i32]  ┆ list[str]          │\n",
       "╞═════════════╪════════════╪════════════════════╡\n",
       "│ A           ┆ [1, 2]     ┆ [\"sushi\", \"curry\"] │\n",
       "│ B           ┆ [2]        ┆ [\"curry\"]          │\n",
       "│ C           ┆ [3, 3]     ┆ [\"ramen\", \"ramen\"] │\n",
       "└─────────────┴────────────┴────────────────────┘"
      ]
     },
     "execution_count": 80,
     "metadata": {},
     "output_type": "execute_result"
    }
   ],
   "source": [
    "(sales.join(menu, on='product_id')\n",
    "      .group_by(['customer_id', 'order_date'])\n",
    "      .agg(pl.col('product_id'), pl.col('product_name'))\n",
    "      .with_columns(pl.col('order_date').rank().over('customer_id').alias('rank'))\n",
    "      .filter(pl.col('rank') == 1)\n",
    "      .drop('order_date', 'rank')\n",
    "      .sort('customer_id')\n",
    ")"
   ]
  },
  {
   "cell_type": "markdown",
   "id": "3847accf",
   "metadata": {},
   "source": [
    "## 4. most purchased item and number of purchases by each customer"
   ]
  },
  {
   "cell_type": "code",
   "execution_count": 83,
   "id": "53693153",
   "metadata": {},
   "outputs": [
    {
     "data": {
      "text/html": [
       "<div><style>\n",
       ".dataframe > thead > tr,\n",
       ".dataframe > tbody > tr {\n",
       "  text-align: right;\n",
       "  white-space: pre-wrap;\n",
       "}\n",
       "</style>\n",
       "<small>shape: (3, 3)</small><table border=\"1\" class=\"dataframe\"><thead><tr><th>product_id</th><th>customer_id</th><th>order_date</th></tr><tr><td>i32</td><td>u32</td><td>u32</td></tr></thead><tbody><tr><td>3</td><td>8</td><td>8</td></tr><tr><td>2</td><td>4</td><td>4</td></tr><tr><td>1</td><td>3</td><td>3</td></tr></tbody></table></div>"
      ],
      "text/plain": [
       "shape: (3, 3)\n",
       "┌────────────┬─────────────┬────────────┐\n",
       "│ product_id ┆ customer_id ┆ order_date │\n",
       "│ ---        ┆ ---         ┆ ---        │\n",
       "│ i32        ┆ u32         ┆ u32        │\n",
       "╞════════════╪═════════════╪════════════╡\n",
       "│ 3          ┆ 8           ┆ 8          │\n",
       "│ 2          ┆ 4           ┆ 4          │\n",
       "│ 1          ┆ 3           ┆ 3          │\n",
       "└────────────┴─────────────┴────────────┘"
      ]
     },
     "execution_count": 83,
     "metadata": {},
     "output_type": "execute_result"
    }
   ],
   "source": [
    "(sales.group_by('product_id')\n",
    "      .agg(pl.all().len())\n",
    ")"
   ]
  }
 ],
 "metadata": {
  "kernelspec": {
   "display_name": "db-butters",
   "language": "python",
   "name": "python3"
  },
  "language_info": {
   "codemirror_mode": {
    "name": "ipython",
    "version": 3
   },
   "file_extension": ".py",
   "mimetype": "text/x-python",
   "name": "python",
   "nbconvert_exporter": "python",
   "pygments_lexer": "ipython3",
   "version": "3.13.3"
  }
 },
 "nbformat": 4,
 "nbformat_minor": 5
}
