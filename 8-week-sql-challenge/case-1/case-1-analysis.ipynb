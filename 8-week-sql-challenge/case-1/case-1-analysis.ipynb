{
 "cells": [
  {
   "cell_type": "markdown",
   "id": "c47b279a",
   "metadata": {},
   "source": [
    "## Case Study Questions\n",
    "\n",
    "1. What is the total amount each customer spent at the restaurant?\n",
    "2. How many days has each customer visited the restaurant?\n",
    "3. What was the first item from the menu purchased by each customer?\n",
    "4. What is the most purchased item on the menu and how many times was it purchased by all customers?\n",
    "5. Which item was the most popular for each customer?\n",
    "6. Which item was purchased first by the customer after they became a member?\n",
    "7. Which item was purchased just before the customer became a member?\n",
    "8. What is the total items and amount spent for each member before they became a member?\n",
    "9.  If each $1 spent equates to 10 points and sushi has a 2x points multiplier - how many points would each customer have?\n",
    "10. In the first week after a customer joins the program (including their join date) they earn 2x points on all items, not just sushi - how many points do customer A and B have at the end of January?"
   ]
  },
  {
   "cell_type": "markdown",
   "id": "1e22e50b",
   "metadata": {},
   "source": [
    "## import data"
   ]
  },
  {
   "cell_type": "code",
   "execution_count": 2,
   "id": "d23de7c4",
   "metadata": {},
   "outputs": [],
   "source": [
    "import polars as pl\n",
    "import duckdb\n",
    "\n",
    "db = '~/repos/db-butters/8-week-sql-challenge/case-1/case-1.duckdb'\n",
    "con = duckdb.connect(db, read_only=True)\n",
    "\n",
    "sales = con.sql('from dannys_diner.sales;').pl()\n",
    "menu = con.sql('from dannys_diner.menu;').pl()\n",
    "members = con.sql('from dannys_diner.members;').pl()\n",
    "\n",
    "con.close()"
   ]
  },
  {
   "cell_type": "markdown",
   "id": "aba31e8d",
   "metadata": {},
   "source": [
    "### sales table"
   ]
  },
  {
   "cell_type": "code",
   "execution_count": 65,
   "id": "f110e55a",
   "metadata": {},
   "outputs": [
    {
     "data": {
      "text/html": [
       "<div><style>\n",
       ".dataframe > thead > tr,\n",
       ".dataframe > tbody > tr {\n",
       "  text-align: right;\n",
       "  white-space: pre-wrap;\n",
       "}\n",
       "</style>\n",
       "<small>shape: (10, 3)</small><table border=\"1\" class=\"dataframe\"><thead><tr><th>customer_id</th><th>order_date</th><th>product_id</th></tr><tr><td>str</td><td>date</td><td>i32</td></tr></thead><tbody><tr><td>&quot;A&quot;</td><td>2021-01-01</td><td>1</td></tr><tr><td>&quot;A&quot;</td><td>2021-01-01</td><td>2</td></tr><tr><td>&quot;A&quot;</td><td>2021-01-07</td><td>2</td></tr><tr><td>&quot;A&quot;</td><td>2021-01-10</td><td>3</td></tr><tr><td>&quot;A&quot;</td><td>2021-01-11</td><td>3</td></tr><tr><td>&quot;A&quot;</td><td>2021-01-11</td><td>3</td></tr><tr><td>&quot;B&quot;</td><td>2021-01-01</td><td>2</td></tr><tr><td>&quot;B&quot;</td><td>2021-01-02</td><td>2</td></tr><tr><td>&quot;B&quot;</td><td>2021-01-04</td><td>1</td></tr><tr><td>&quot;B&quot;</td><td>2021-01-11</td><td>1</td></tr></tbody></table></div>"
      ],
      "text/plain": [
       "shape: (10, 3)\n",
       "┌─────────────┬────────────┬────────────┐\n",
       "│ customer_id ┆ order_date ┆ product_id │\n",
       "│ ---         ┆ ---        ┆ ---        │\n",
       "│ str         ┆ date       ┆ i32        │\n",
       "╞═════════════╪════════════╪════════════╡\n",
       "│ A           ┆ 2021-01-01 ┆ 1          │\n",
       "│ A           ┆ 2021-01-01 ┆ 2          │\n",
       "│ A           ┆ 2021-01-07 ┆ 2          │\n",
       "│ A           ┆ 2021-01-10 ┆ 3          │\n",
       "│ A           ┆ 2021-01-11 ┆ 3          │\n",
       "│ A           ┆ 2021-01-11 ┆ 3          │\n",
       "│ B           ┆ 2021-01-01 ┆ 2          │\n",
       "│ B           ┆ 2021-01-02 ┆ 2          │\n",
       "│ B           ┆ 2021-01-04 ┆ 1          │\n",
       "│ B           ┆ 2021-01-11 ┆ 1          │\n",
       "└─────────────┴────────────┴────────────┘"
      ]
     },
     "metadata": {},
     "output_type": "display_data"
    }
   ],
   "source": [
    "display(sales.head(10))"
   ]
  },
  {
   "cell_type": "markdown",
   "id": "e865bd45",
   "metadata": {},
   "source": [
    "### menu table"
   ]
  },
  {
   "cell_type": "code",
   "execution_count": 30,
   "id": "085699d5",
   "metadata": {},
   "outputs": [
    {
     "data": {
      "text/html": [
       "<div><style>\n",
       ".dataframe > thead > tr,\n",
       ".dataframe > tbody > tr {\n",
       "  text-align: right;\n",
       "  white-space: pre-wrap;\n",
       "}\n",
       "</style>\n",
       "<small>shape: (3, 3)</small><table border=\"1\" class=\"dataframe\"><thead><tr><th>product_id</th><th>product_name</th><th>price</th></tr><tr><td>i32</td><td>str</td><td>i32</td></tr></thead><tbody><tr><td>1</td><td>&quot;sushi&quot;</td><td>10</td></tr><tr><td>2</td><td>&quot;curry&quot;</td><td>15</td></tr><tr><td>3</td><td>&quot;ramen&quot;</td><td>12</td></tr></tbody></table></div>"
      ],
      "text/plain": [
       "shape: (3, 3)\n",
       "┌────────────┬──────────────┬───────┐\n",
       "│ product_id ┆ product_name ┆ price │\n",
       "│ ---        ┆ ---          ┆ ---   │\n",
       "│ i32        ┆ str          ┆ i32   │\n",
       "╞════════════╪══════════════╪═══════╡\n",
       "│ 1          ┆ sushi        ┆ 10    │\n",
       "│ 2          ┆ curry        ┆ 15    │\n",
       "│ 3          ┆ ramen        ┆ 12    │\n",
       "└────────────┴──────────────┴───────┘"
      ]
     },
     "metadata": {},
     "output_type": "display_data"
    }
   ],
   "source": [
    "display(menu)"
   ]
  },
  {
   "cell_type": "markdown",
   "id": "a5167a11",
   "metadata": {},
   "source": [
    "### members table"
   ]
  },
  {
   "cell_type": "code",
   "execution_count": 31,
   "id": "e4721e02",
   "metadata": {},
   "outputs": [
    {
     "data": {
      "text/html": [
       "<div><style>\n",
       ".dataframe > thead > tr,\n",
       ".dataframe > tbody > tr {\n",
       "  text-align: right;\n",
       "  white-space: pre-wrap;\n",
       "}\n",
       "</style>\n",
       "<small>shape: (2, 2)</small><table border=\"1\" class=\"dataframe\"><thead><tr><th>customer_id</th><th>join_date</th></tr><tr><td>str</td><td>date</td></tr></thead><tbody><tr><td>&quot;A&quot;</td><td>2021-01-07</td></tr><tr><td>&quot;B&quot;</td><td>2021-01-09</td></tr></tbody></table></div>"
      ],
      "text/plain": [
       "shape: (2, 2)\n",
       "┌─────────────┬────────────┐\n",
       "│ customer_id ┆ join_date  │\n",
       "│ ---         ┆ ---        │\n",
       "│ str         ┆ date       │\n",
       "╞═════════════╪════════════╡\n",
       "│ A           ┆ 2021-01-07 │\n",
       "│ B           ┆ 2021-01-09 │\n",
       "└─────────────┴────────────┘"
      ]
     },
     "metadata": {},
     "output_type": "display_data"
    }
   ],
   "source": [
    "display(members)"
   ]
  },
  {
   "cell_type": "markdown",
   "id": "95a042d8",
   "metadata": {},
   "source": [
    "## 1. total spent per customer"
   ]
  },
  {
   "cell_type": "code",
   "execution_count": 35,
   "id": "0de1211b",
   "metadata": {},
   "outputs": [
    {
     "data": {
      "text/html": [
       "<div><style>\n",
       ".dataframe > thead > tr,\n",
       ".dataframe > tbody > tr {\n",
       "  text-align: right;\n",
       "  white-space: pre-wrap;\n",
       "}\n",
       "</style>\n",
       "<small>shape: (3, 2)</small><table border=\"1\" class=\"dataframe\"><thead><tr><th>customer_id</th><th>total_spent</th></tr><tr><td>str</td><td>i32</td></tr></thead><tbody><tr><td>&quot;A&quot;</td><td>76</td></tr><tr><td>&quot;B&quot;</td><td>74</td></tr><tr><td>&quot;C&quot;</td><td>36</td></tr></tbody></table></div>"
      ],
      "text/plain": [
       "shape: (3, 2)\n",
       "┌─────────────┬─────────────┐\n",
       "│ customer_id ┆ total_spent │\n",
       "│ ---         ┆ ---         │\n",
       "│ str         ┆ i32         │\n",
       "╞═════════════╪═════════════╡\n",
       "│ A           ┆ 76          │\n",
       "│ B           ┆ 74          │\n",
       "│ C           ┆ 36          │\n",
       "└─────────────┴─────────────┘"
      ]
     },
     "execution_count": 35,
     "metadata": {},
     "output_type": "execute_result"
    }
   ],
   "source": [
    "(sales.join(menu, on='product_id')\n",
    "      .group_by('customer_id')\n",
    "      .agg(\n",
    "          pl.col('price').sum().alias('total_spent')\n",
    "      ).sort('customer_id')\n",
    ")"
   ]
  },
  {
   "cell_type": "markdown",
   "id": "008dcae7",
   "metadata": {},
   "source": [
    "## 2. customer days at restaurant"
   ]
  },
  {
   "cell_type": "code",
   "execution_count": 58,
   "id": "66f3d50a",
   "metadata": {},
   "outputs": [
    {
     "data": {
      "text/html": [
       "<div><style>\n",
       ".dataframe > thead > tr,\n",
       ".dataframe > tbody > tr {\n",
       "  text-align: right;\n",
       "  white-space: pre-wrap;\n",
       "}\n",
       "</style>\n",
       "<small>shape: (3, 2)</small><table border=\"1\" class=\"dataframe\"><thead><tr><th>customer_id</th><th>days_visited</th></tr><tr><td>str</td><td>u32</td></tr></thead><tbody><tr><td>&quot;A&quot;</td><td>4</td></tr><tr><td>&quot;B&quot;</td><td>6</td></tr><tr><td>&quot;C&quot;</td><td>2</td></tr></tbody></table></div>"
      ],
      "text/plain": [
       "shape: (3, 2)\n",
       "┌─────────────┬──────────────┐\n",
       "│ customer_id ┆ days_visited │\n",
       "│ ---         ┆ ---          │\n",
       "│ str         ┆ u32          │\n",
       "╞═════════════╪══════════════╡\n",
       "│ A           ┆ 4            │\n",
       "│ B           ┆ 6            │\n",
       "│ C           ┆ 2            │\n",
       "└─────────────┴──────────────┘"
      ]
     },
     "execution_count": 58,
     "metadata": {},
     "output_type": "execute_result"
    }
   ],
   "source": [
    "(sales.group_by('customer_id')\n",
    "      .agg(pl.col('order_date').n_unique().alias('days_visited'))\n",
    "      .sort('customer_id')\n",
    ")"
   ]
  },
  {
   "cell_type": "markdown",
   "id": "0df78e2e",
   "metadata": {},
   "source": [
    "## 3. first item purchased by each customer"
   ]
  },
  {
   "cell_type": "code",
   "execution_count": 54,
   "id": "941745b5",
   "metadata": {},
   "outputs": [
    {
     "data": {
      "text/html": [
       "<div><style>\n",
       ".dataframe > thead > tr,\n",
       ".dataframe > tbody > tr {\n",
       "  text-align: right;\n",
       "  white-space: pre-wrap;\n",
       "}\n",
       "</style>\n",
       "<small>shape: (3, 3)</small><table border=\"1\" class=\"dataframe\"><thead><tr><th>customer_id</th><th>product_id</th><th>product_name</th></tr><tr><td>str</td><td>list[i32]</td><td>list[str]</td></tr></thead><tbody><tr><td>&quot;A&quot;</td><td>[1, 2]</td><td>[&quot;sushi&quot;, &quot;curry&quot;]</td></tr><tr><td>&quot;B&quot;</td><td>[2]</td><td>[&quot;curry&quot;]</td></tr><tr><td>&quot;C&quot;</td><td>[3, 3]</td><td>[&quot;ramen&quot;, &quot;ramen&quot;]</td></tr></tbody></table></div>"
      ],
      "text/plain": [
       "shape: (3, 3)\n",
       "┌─────────────┬────────────┬────────────────────┐\n",
       "│ customer_id ┆ product_id ┆ product_name       │\n",
       "│ ---         ┆ ---        ┆ ---                │\n",
       "│ str         ┆ list[i32]  ┆ list[str]          │\n",
       "╞═════════════╪════════════╪════════════════════╡\n",
       "│ A           ┆ [1, 2]     ┆ [\"sushi\", \"curry\"] │\n",
       "│ B           ┆ [2]        ┆ [\"curry\"]          │\n",
       "│ C           ┆ [3, 3]     ┆ [\"ramen\", \"ramen\"] │\n",
       "└─────────────┴────────────┴────────────────────┘"
      ]
     },
     "execution_count": 54,
     "metadata": {},
     "output_type": "execute_result"
    }
   ],
   "source": [
    "(sales.join(menu, on='product_id')\n",
    "      .group_by(['customer_id', 'order_date'])\n",
    "      .agg(pl.col('product_id'), pl.col('product_name'))\n",
    "      .with_columns(pl.col('order_date').rank('dense').over('customer_id').alias('rank'))\n",
    "      .filter(pl.col('rank') == 1)\n",
    "      .drop('order_date', 'rank')\n",
    "      .sort('customer_id')\n",
    ")"
   ]
  },
  {
   "cell_type": "markdown",
   "id": "3847accf",
   "metadata": {},
   "source": [
    "## 4. most purchased item and number of purchases by each customer"
   ]
  },
  {
   "cell_type": "code",
   "execution_count": 30,
   "id": "53693153",
   "metadata": {},
   "outputs": [
    {
     "data": {
      "text/html": [
       "<div><style>\n",
       ".dataframe > thead > tr,\n",
       ".dataframe > tbody > tr {\n",
       "  text-align: right;\n",
       "  white-space: pre-wrap;\n",
       "}\n",
       "</style>\n",
       "<small>shape: (1, 4)</small><table border=\"1\" class=\"dataframe\"><thead><tr><th>product_id</th><th>product_name</th><th>price</th><th>purchases</th></tr><tr><td>i32</td><td>str</td><td>i32</td><td>u32</td></tr></thead><tbody><tr><td>3</td><td>&quot;ramen&quot;</td><td>12</td><td>8</td></tr></tbody></table></div>"
      ],
      "text/plain": [
       "shape: (1, 4)\n",
       "┌────────────┬──────────────┬───────┬───────────┐\n",
       "│ product_id ┆ product_name ┆ price ┆ purchases │\n",
       "│ ---        ┆ ---          ┆ ---   ┆ ---       │\n",
       "│ i32        ┆ str          ┆ i32   ┆ u32       │\n",
       "╞════════════╪══════════════╪═══════╪═══════════╡\n",
       "│ 3          ┆ ramen        ┆ 12    ┆ 8         │\n",
       "└────────────┴──────────────┴───────┴───────────┘"
      ]
     },
     "metadata": {},
     "output_type": "display_data"
    }
   ],
   "source": [
    "n_max_purchases = (sales.group_by('product_id')\n",
    "      .agg(pl.col('customer_id').len().alias('purchases'))\n",
    "      .select(pl.col('purchases').max())\n",
    ").item()\n",
    "\n",
    "most_purchased_item = (sales.group_by('product_id')\n",
    "      .agg(pl.col('customer_id').len().alias('purchases'))\n",
    "      .filter(pl.col('purchases') == n_max_purchases)\n",
    "      .join(menu, on='product_id')\n",
    "      .select('product_id', 'product_name', 'price', 'purchases')\n",
    ")\n",
    "\n",
    "display(most_purchased_item)"
   ]
  },
  {
   "cell_type": "code",
   "execution_count": 66,
   "id": "5a164a6f",
   "metadata": {},
   "outputs": [
    {
     "data": {
      "text/html": [
       "<div><style>\n",
       ".dataframe > thead > tr,\n",
       ".dataframe > tbody > tr {\n",
       "  text-align: right;\n",
       "  white-space: pre-wrap;\n",
       "}\n",
       "</style>\n",
       "<small>shape: (3, 2)</small><table border=\"1\" class=\"dataframe\"><thead><tr><th>customer_id</th><th>purchases</th></tr><tr><td>str</td><td>u32</td></tr></thead><tbody><tr><td>&quot;A&quot;</td><td>3</td></tr><tr><td>&quot;B&quot;</td><td>2</td></tr><tr><td>&quot;C&quot;</td><td>3</td></tr></tbody></table></div>"
      ],
      "text/plain": [
       "shape: (3, 2)\n",
       "┌─────────────┬───────────┐\n",
       "│ customer_id ┆ purchases │\n",
       "│ ---         ┆ ---       │\n",
       "│ str         ┆ u32       │\n",
       "╞═════════════╪═══════════╡\n",
       "│ A           ┆ 3         │\n",
       "│ B           ┆ 2         │\n",
       "│ C           ┆ 3         │\n",
       "└─────────────┴───────────┘"
      ]
     },
     "execution_count": 66,
     "metadata": {},
     "output_type": "execute_result"
    }
   ],
   "source": [
    "customer_mpi_purchases = (sales.filter(pl.col('product_id') == most_purchased_item.select(pl.col('product_id')).item())\n",
    "      .group_by('customer_id')\n",
    "      .agg(pl.col('product_id').len().alias('purchases'))\n",
    "      .sort('customer_id')\n",
    ")\n",
    "\n",
    "customer_mpi_purchases"
   ]
  },
  {
   "cell_type": "markdown",
   "id": "ea37e459",
   "metadata": {},
   "source": [
    "## 5. most popular item for each customer"
   ]
  },
  {
   "cell_type": "code",
   "execution_count": 67,
   "id": "636004eb",
   "metadata": {},
   "outputs": [
    {
     "data": {
      "text/html": [
       "<div><style>\n",
       ".dataframe > thead > tr,\n",
       ".dataframe > tbody > tr {\n",
       "  text-align: right;\n",
       "  white-space: pre-wrap;\n",
       "}\n",
       "</style>\n",
       "<small>shape: (3, 3)</small><table border=\"1\" class=\"dataframe\"><thead><tr><th>customer_id</th><th>most_popular_item_ids</th><th>most_popular_item_names</th></tr><tr><td>str</td><td>list[i32]</td><td>list[str]</td></tr></thead><tbody><tr><td>&quot;A&quot;</td><td>[3]</td><td>[&quot;ramen&quot;]</td></tr><tr><td>&quot;B&quot;</td><td>[1, 2, 3]</td><td>[&quot;sushi&quot;, &quot;curry&quot;, &quot;ramen&quot;]</td></tr><tr><td>&quot;C&quot;</td><td>[3]</td><td>[&quot;ramen&quot;]</td></tr></tbody></table></div>"
      ],
      "text/plain": [
       "shape: (3, 3)\n",
       "┌─────────────┬───────────────────────┬─────────────────────────────┐\n",
       "│ customer_id ┆ most_popular_item_ids ┆ most_popular_item_names     │\n",
       "│ ---         ┆ ---                   ┆ ---                         │\n",
       "│ str         ┆ list[i32]             ┆ list[str]                   │\n",
       "╞═════════════╪═══════════════════════╪═════════════════════════════╡\n",
       "│ A           ┆ [3]                   ┆ [\"ramen\"]                   │\n",
       "│ B           ┆ [1, 2, 3]             ┆ [\"sushi\", \"curry\", \"ramen\"] │\n",
       "│ C           ┆ [3]                   ┆ [\"ramen\"]                   │\n",
       "└─────────────┴───────────────────────┴─────────────────────────────┘"
      ]
     },
     "execution_count": 67,
     "metadata": {},
     "output_type": "execute_result"
    }
   ],
   "source": [
    "most_popular_item_per_customer = (sales.group_by('customer_id', 'product_id')\n",
    "      .agg(pl.col('order_date').len().alias('purchases'))\n",
    "      .sort(['customer_id', 'product_id'])\n",
    "      .with_columns(pl.col('purchases').rank('dense', descending=True).over(['customer_id']).alias('rank'))\n",
    "      .filter(pl.col('rank') == 1)\n",
    "      .join(menu, on='product_id')\n",
    "      .group_by('customer_id')\n",
    "      .agg(\n",
    "          pl.col('product_id').alias('most_popular_item_ids'),\n",
    "          pl.col('product_name').alias('most_popular_item_names'),\n",
    "      )\n",
    ")\n",
    "\n",
    "most_popular_item_per_customer"
   ]
  },
  {
   "cell_type": "markdown",
   "id": "2cb1c09b",
   "metadata": {},
   "source": [
    "## 6. first item purchase after membership"
   ]
  },
  {
   "cell_type": "code",
   "execution_count": 14,
   "id": "66f585bb",
   "metadata": {},
   "outputs": [
    {
     "data": {
      "text/html": [
       "<div><style>\n",
       ".dataframe > thead > tr,\n",
       ".dataframe > tbody > tr {\n",
       "  text-align: right;\n",
       "  white-space: pre-wrap;\n",
       "}\n",
       "</style>\n",
       "<small>shape: (2, 5)</small><table border=\"1\" class=\"dataframe\"><thead><tr><th>customer_id</th><th>product_id</th><th>product_name</th><th>price</th><th>order_date</th></tr><tr><td>str</td><td>i32</td><td>str</td><td>i32</td><td>date</td></tr></thead><tbody><tr><td>&quot;A&quot;</td><td>2</td><td>&quot;curry&quot;</td><td>15</td><td>2021-01-07</td></tr><tr><td>&quot;B&quot;</td><td>1</td><td>&quot;sushi&quot;</td><td>10</td><td>2021-01-11</td></tr></tbody></table></div>"
      ],
      "text/plain": [
       "shape: (2, 5)\n",
       "┌─────────────┬────────────┬──────────────┬───────┬────────────┐\n",
       "│ customer_id ┆ product_id ┆ product_name ┆ price ┆ order_date │\n",
       "│ ---         ┆ ---        ┆ ---          ┆ ---   ┆ ---        │\n",
       "│ str         ┆ i32        ┆ str          ┆ i32   ┆ date       │\n",
       "╞═════════════╪════════════╪══════════════╪═══════╪════════════╡\n",
       "│ A           ┆ 2          ┆ curry        ┆ 15    ┆ 2021-01-07 │\n",
       "│ B           ┆ 1          ┆ sushi        ┆ 10    ┆ 2021-01-11 │\n",
       "└─────────────┴────────────┴──────────────┴───────┴────────────┘"
      ]
     },
     "execution_count": 14,
     "metadata": {},
     "output_type": "execute_result"
    }
   ],
   "source": [
    "(sales.join(members, how='left', on='customer_id')\n",
    "      .filter(pl.col('order_date') >= pl.col('join_date'))\n",
    "      .sort(['order_date'])\n",
    "      .with_columns(pl.col('order_date').rank('dense').over('customer_id').alias('rank'))\n",
    "      .filter(pl.col('rank') == 1)\n",
    "      .drop(['rank', 'join_date'])\n",
    "      .join(menu, how='left', on='product_id')\n",
    "      .select(['customer_id', 'product_id', 'product_name', 'price', 'order_date'])\n",
    ")"
   ]
  },
  {
   "cell_type": "markdown",
   "id": "0a66b4c6",
   "metadata": {},
   "source": [
    "## 7. last item purchased before becoming member"
   ]
  },
  {
   "cell_type": "code",
   "execution_count": 14,
   "id": "7c57081c",
   "metadata": {},
   "outputs": [
    {
     "data": {
      "text/html": [
       "<div><style>\n",
       ".dataframe > thead > tr,\n",
       ".dataframe > tbody > tr {\n",
       "  text-align: right;\n",
       "  white-space: pre-wrap;\n",
       "}\n",
       "</style>\n",
       "<small>shape: (2, 3)</small><table border=\"1\" class=\"dataframe\"><thead><tr><th>customer_id</th><th>product_ids</th><th>product_names</th></tr><tr><td>str</td><td>list[i32]</td><td>list[str]</td></tr></thead><tbody><tr><td>&quot;A&quot;</td><td>[1, 2]</td><td>[&quot;sushi&quot;, &quot;curry&quot;]</td></tr><tr><td>&quot;B&quot;</td><td>[1]</td><td>[&quot;sushi&quot;]</td></tr></tbody></table></div>"
      ],
      "text/plain": [
       "shape: (2, 3)\n",
       "┌─────────────┬─────────────┬────────────────────┐\n",
       "│ customer_id ┆ product_ids ┆ product_names      │\n",
       "│ ---         ┆ ---         ┆ ---                │\n",
       "│ str         ┆ list[i32]   ┆ list[str]          │\n",
       "╞═════════════╪═════════════╪════════════════════╡\n",
       "│ A           ┆ [1, 2]      ┆ [\"sushi\", \"curry\"] │\n",
       "│ B           ┆ [1]         ┆ [\"sushi\"]          │\n",
       "└─────────────┴─────────────┴────────────────────┘"
      ]
     },
     "execution_count": 14,
     "metadata": {},
     "output_type": "execute_result"
    }
   ],
   "source": [
    "(sales.join(members, how='left', on='customer_id')\n",
    "      .filter(pl.col('order_date') < pl.col('join_date'))\n",
    "      .with_columns(pl.col('order_date').rank('dense', descending=True).over('customer_id').alias('rank'))\n",
    "      .filter(pl.col('rank') == 1)\n",
    "      .join(menu, how='left', on='product_id')\n",
    "      .group_by('customer_id')\n",
    "      .agg(\n",
    "          pl.col('product_id').alias('product_ids'),\n",
    "          pl.col('product_name').alias('product_names'),\n",
    "      ).sort('customer_id')\n",
    ")"
   ]
  },
  {
   "cell_type": "markdown",
   "id": "b5b4f3c3",
   "metadata": {},
   "source": [
    "## 8. number of items and total spent before becoming a member"
   ]
  },
  {
   "cell_type": "code",
   "execution_count": 17,
   "id": "a102874d",
   "metadata": {},
   "outputs": [
    {
     "data": {
      "text/html": [
       "<div><style>\n",
       ".dataframe > thead > tr,\n",
       ".dataframe > tbody > tr {\n",
       "  text-align: right;\n",
       "  white-space: pre-wrap;\n",
       "}\n",
       "</style>\n",
       "<small>shape: (3, 3)</small><table border=\"1\" class=\"dataframe\"><thead><tr><th>customer_id</th><th>total_items_purchased</th><th>total_spent</th></tr><tr><td>str</td><td>u32</td><td>i32</td></tr></thead><tbody><tr><td>&quot;A&quot;</td><td>2</td><td>25</td></tr><tr><td>&quot;B&quot;</td><td>3</td><td>40</td></tr><tr><td>&quot;C&quot;</td><td>3</td><td>36</td></tr></tbody></table></div>"
      ],
      "text/plain": [
       "shape: (3, 3)\n",
       "┌─────────────┬───────────────────────┬─────────────┐\n",
       "│ customer_id ┆ total_items_purchased ┆ total_spent │\n",
       "│ ---         ┆ ---                   ┆ ---         │\n",
       "│ str         ┆ u32                   ┆ i32         │\n",
       "╞═════════════╪═══════════════════════╪═════════════╡\n",
       "│ A           ┆ 2                     ┆ 25          │\n",
       "│ B           ┆ 3                     ┆ 40          │\n",
       "│ C           ┆ 3                     ┆ 36          │\n",
       "└─────────────┴───────────────────────┴─────────────┘"
      ]
     },
     "execution_count": 17,
     "metadata": {},
     "output_type": "execute_result"
    }
   ],
   "source": [
    "(sales.join(members, how='left', on='customer_id')\n",
    "      .join(menu, how='left', on='product_id')\n",
    "      .filter((pl.col('order_date') < pl.col('join_date')) | pl.col('join_date').is_null())\n",
    "      .group_by('customer_id')\n",
    "      .agg(\n",
    "          pl.col('product_id').len().alias('total_items_purchased'),\n",
    "          pl.col('price').sum().alias('total_spent'),\n",
    "      )\n",
    "      .sort('customer_id')\n",
    ")"
   ]
  },
  {
   "cell_type": "markdown",
   "id": "d8018ddf",
   "metadata": {},
   "source": [
    "## 9. points accumulation per customer\n",
    "(10 points for every dollar spent, 2x multiplier for sushi)"
   ]
  },
  {
   "cell_type": "code",
   "execution_count": 8,
   "id": "7942eb4d",
   "metadata": {},
   "outputs": [
    {
     "data": {
      "text/html": [
       "<div><style>\n",
       ".dataframe > thead > tr,\n",
       ".dataframe > tbody > tr {\n",
       "  text-align: right;\n",
       "  white-space: pre-wrap;\n",
       "}\n",
       "</style>\n",
       "<small>shape: (3, 2)</small><table border=\"1\" class=\"dataframe\"><thead><tr><th>customer_id</th><th>points</th></tr><tr><td>str</td><td>i32</td></tr></thead><tbody><tr><td>&quot;A&quot;</td><td>860</td></tr><tr><td>&quot;B&quot;</td><td>940</td></tr><tr><td>&quot;C&quot;</td><td>360</td></tr></tbody></table></div>"
      ],
      "text/plain": [
       "shape: (3, 2)\n",
       "┌─────────────┬────────┐\n",
       "│ customer_id ┆ points │\n",
       "│ ---         ┆ ---    │\n",
       "│ str         ┆ i32    │\n",
       "╞═════════════╪════════╡\n",
       "│ A           ┆ 860    │\n",
       "│ B           ┆ 940    │\n",
       "│ C           ┆ 360    │\n",
       "└─────────────┴────────┘"
      ]
     },
     "execution_count": 8,
     "metadata": {},
     "output_type": "execute_result"
    }
   ],
   "source": [
    "(sales.join(menu, how='left', on='product_id')\n",
    "      .with_columns(pl.when(pl.col('product_id') == 1)\n",
    "                      .then(pl.col('price') * 10 * 2)\n",
    "                      .otherwise(pl.col('price') * 10)\n",
    "                      .alias('points'))\n",
    "      .group_by('customer_id')\n",
    "      .agg(pl.col('points').sum())\n",
    "      .sort('customer_id')\n",
    ")"
   ]
  },
  {
   "cell_type": "markdown",
   "id": "5cb72b59",
   "metadata": {},
   "source": [
    "## 10. enhanced points program"
   ]
  },
  {
   "cell_type": "code",
   "execution_count": 37,
   "id": "4ae2c1bf",
   "metadata": {},
   "outputs": [
    {
     "data": {
      "text/html": [
       "<div><style>\n",
       ".dataframe > thead > tr,\n",
       ".dataframe > tbody > tr {\n",
       "  text-align: right;\n",
       "  white-space: pre-wrap;\n",
       "}\n",
       "</style>\n",
       "<small>shape: (3, 2)</small><table border=\"1\" class=\"dataframe\"><thead><tr><th>customer_id</th><th>points</th></tr><tr><td>str</td><td>i32</td></tr></thead><tbody><tr><td>&quot;A&quot;</td><td>1370</td></tr><tr><td>&quot;B&quot;</td><td>1060</td></tr><tr><td>&quot;C&quot;</td><td>360</td></tr></tbody></table></div>"
      ],
      "text/plain": [
       "shape: (3, 2)\n",
       "┌─────────────┬────────┐\n",
       "│ customer_id ┆ points │\n",
       "│ ---         ┆ ---    │\n",
       "│ str         ┆ i32    │\n",
       "╞═════════════╪════════╡\n",
       "│ A           ┆ 1370   │\n",
       "│ B           ┆ 1060   │\n",
       "│ C           ┆ 360    │\n",
       "└─────────────┴────────┘"
      ]
     },
     "execution_count": 37,
     "metadata": {},
     "output_type": "execute_result"
    }
   ],
   "source": [
    "(sales.join(menu, how='left', on='product_id')\n",
    "      .join(members, how='left', on='customer_id')\n",
    "      .with_columns(\n",
    "          pl.when(\n",
    "                (((pl.col('order_date') - pl.col('join_date')).dt.total_days() >= 0)\n",
    "                    & ((pl.col('order_date') - pl.col('join_date')).dt.total_days() <= 7))\n",
    "                | (pl.col('product_id') == 1)\n",
    "            ).then(pl.col('price') * 10 * 2)\n",
    "            .otherwise(pl.col('price') * 10)\n",
    "            .alias('points')\n",
    "      )\n",
    "      .group_by('customer_id')\n",
    "      .agg(pl.col('points').sum())\n",
    "      .sort('customer_id')\n",
    ")"
   ]
  },
  {
   "cell_type": "markdown",
   "id": "06a8a6d2",
   "metadata": {},
   "source": [
    "## bonus - join all the things"
   ]
  },
  {
   "cell_type": "code",
   "execution_count": 7,
   "id": "fdf3d5bf",
   "metadata": {},
   "outputs": [
    {
     "data": {
      "text/html": [
       "<div><style>\n",
       ".dataframe > thead > tr,\n",
       ".dataframe > tbody > tr {\n",
       "  text-align: right;\n",
       "  white-space: pre-wrap;\n",
       "}\n",
       "</style>\n",
       "<small>shape: (15, 5)</small><table border=\"1\" class=\"dataframe\"><thead><tr><th>customer_id</th><th>order_date</th><th>product_name</th><th>price</th><th>member</th></tr><tr><td>str</td><td>date</td><td>str</td><td>i32</td><td>str</td></tr></thead><tbody><tr><td>&quot;A&quot;</td><td>2021-01-01</td><td>&quot;curry&quot;</td><td>15</td><td>&quot;N&quot;</td></tr><tr><td>&quot;A&quot;</td><td>2021-01-01</td><td>&quot;sushi&quot;</td><td>10</td><td>&quot;N&quot;</td></tr><tr><td>&quot;A&quot;</td><td>2021-01-07</td><td>&quot;curry&quot;</td><td>15</td><td>&quot;Y&quot;</td></tr><tr><td>&quot;A&quot;</td><td>2021-01-10</td><td>&quot;ramen&quot;</td><td>12</td><td>&quot;Y&quot;</td></tr><tr><td>&quot;A&quot;</td><td>2021-01-11</td><td>&quot;ramen&quot;</td><td>12</td><td>&quot;Y&quot;</td></tr><tr><td>&hellip;</td><td>&hellip;</td><td>&hellip;</td><td>&hellip;</td><td>&hellip;</td></tr><tr><td>&quot;B&quot;</td><td>2021-01-16</td><td>&quot;ramen&quot;</td><td>12</td><td>&quot;Y&quot;</td></tr><tr><td>&quot;B&quot;</td><td>2021-02-01</td><td>&quot;ramen&quot;</td><td>12</td><td>&quot;Y&quot;</td></tr><tr><td>&quot;C&quot;</td><td>2021-01-01</td><td>&quot;ramen&quot;</td><td>12</td><td>&quot;N&quot;</td></tr><tr><td>&quot;C&quot;</td><td>2021-01-01</td><td>&quot;ramen&quot;</td><td>12</td><td>&quot;N&quot;</td></tr><tr><td>&quot;C&quot;</td><td>2021-01-07</td><td>&quot;ramen&quot;</td><td>12</td><td>&quot;N&quot;</td></tr></tbody></table></div>"
      ],
      "text/plain": [
       "shape: (15, 5)\n",
       "┌─────────────┬────────────┬──────────────┬───────┬────────┐\n",
       "│ customer_id ┆ order_date ┆ product_name ┆ price ┆ member │\n",
       "│ ---         ┆ ---        ┆ ---          ┆ ---   ┆ ---    │\n",
       "│ str         ┆ date       ┆ str          ┆ i32   ┆ str    │\n",
       "╞═════════════╪════════════╪══════════════╪═══════╪════════╡\n",
       "│ A           ┆ 2021-01-01 ┆ curry        ┆ 15    ┆ N      │\n",
       "│ A           ┆ 2021-01-01 ┆ sushi        ┆ 10    ┆ N      │\n",
       "│ A           ┆ 2021-01-07 ┆ curry        ┆ 15    ┆ Y      │\n",
       "│ A           ┆ 2021-01-10 ┆ ramen        ┆ 12    ┆ Y      │\n",
       "│ A           ┆ 2021-01-11 ┆ ramen        ┆ 12    ┆ Y      │\n",
       "│ …           ┆ …          ┆ …            ┆ …     ┆ …      │\n",
       "│ B           ┆ 2021-01-16 ┆ ramen        ┆ 12    ┆ Y      │\n",
       "│ B           ┆ 2021-02-01 ┆ ramen        ┆ 12    ┆ Y      │\n",
       "│ C           ┆ 2021-01-01 ┆ ramen        ┆ 12    ┆ N      │\n",
       "│ C           ┆ 2021-01-01 ┆ ramen        ┆ 12    ┆ N      │\n",
       "│ C           ┆ 2021-01-07 ┆ ramen        ┆ 12    ┆ N      │\n",
       "└─────────────┴────────────┴──────────────┴───────┴────────┘"
      ]
     },
     "execution_count": 7,
     "metadata": {},
     "output_type": "execute_result"
    }
   ],
   "source": [
    "(sales.join(menu, how='left', on='product_id')\n",
    "      .join(members, how='left', on='customer_id')\n",
    "      .with_columns(\n",
    "          pl.when(pl.col('order_date') >= pl.col('join_date'))\n",
    "            .then(pl.lit('Y'))\n",
    "            .otherwise(pl.lit('N'))\n",
    "            .alias('member')\n",
    "      )\n",
    "      .select(['customer_id', 'order_date', 'product_name', 'price', 'member'])\n",
    "      .sort(['customer_id', 'order_date', 'product_name'])\n",
    ")"
   ]
  },
  {
   "cell_type": "markdown",
   "id": "8d93122e",
   "metadata": {},
   "source": [
    "## bonus - rank all the things"
   ]
  },
  {
   "cell_type": "code",
   "execution_count": 22,
   "id": "d8119e91",
   "metadata": {},
   "outputs": [
    {
     "data": {
      "text/html": [
       "<div><style>\n",
       ".dataframe > thead > tr,\n",
       ".dataframe > tbody > tr {\n",
       "  text-align: right;\n",
       "  white-space: pre-wrap;\n",
       "}\n",
       "</style>\n",
       "<small>shape: (15, 6)</small><table border=\"1\" class=\"dataframe\"><thead><tr><th>customer_id</th><th>order_date</th><th>product_name</th><th>price</th><th>member</th><th>ranking</th></tr><tr><td>str</td><td>date</td><td>str</td><td>i32</td><td>str</td><td>u32</td></tr></thead><tbody><tr><td>&quot;A&quot;</td><td>2021-01-01</td><td>&quot;curry&quot;</td><td>15</td><td>&quot;N&quot;</td><td>null</td></tr><tr><td>&quot;A&quot;</td><td>2021-01-01</td><td>&quot;sushi&quot;</td><td>10</td><td>&quot;N&quot;</td><td>null</td></tr><tr><td>&quot;A&quot;</td><td>2021-01-07</td><td>&quot;curry&quot;</td><td>15</td><td>&quot;Y&quot;</td><td>1</td></tr><tr><td>&quot;A&quot;</td><td>2021-01-10</td><td>&quot;ramen&quot;</td><td>12</td><td>&quot;Y&quot;</td><td>2</td></tr><tr><td>&quot;A&quot;</td><td>2021-01-11</td><td>&quot;ramen&quot;</td><td>12</td><td>&quot;Y&quot;</td><td>3</td></tr><tr><td>&hellip;</td><td>&hellip;</td><td>&hellip;</td><td>&hellip;</td><td>&hellip;</td><td>&hellip;</td></tr><tr><td>&quot;B&quot;</td><td>2021-01-16</td><td>&quot;ramen&quot;</td><td>12</td><td>&quot;Y&quot;</td><td>2</td></tr><tr><td>&quot;B&quot;</td><td>2021-02-01</td><td>&quot;ramen&quot;</td><td>12</td><td>&quot;Y&quot;</td><td>3</td></tr><tr><td>&quot;C&quot;</td><td>2021-01-01</td><td>&quot;ramen&quot;</td><td>12</td><td>&quot;N&quot;</td><td>null</td></tr><tr><td>&quot;C&quot;</td><td>2021-01-01</td><td>&quot;ramen&quot;</td><td>12</td><td>&quot;N&quot;</td><td>null</td></tr><tr><td>&quot;C&quot;</td><td>2021-01-07</td><td>&quot;ramen&quot;</td><td>12</td><td>&quot;N&quot;</td><td>null</td></tr></tbody></table></div>"
      ],
      "text/plain": [
       "shape: (15, 6)\n",
       "┌─────────────┬────────────┬──────────────┬───────┬────────┬─────────┐\n",
       "│ customer_id ┆ order_date ┆ product_name ┆ price ┆ member ┆ ranking │\n",
       "│ ---         ┆ ---        ┆ ---          ┆ ---   ┆ ---    ┆ ---     │\n",
       "│ str         ┆ date       ┆ str          ┆ i32   ┆ str    ┆ u32     │\n",
       "╞═════════════╪════════════╪══════════════╪═══════╪════════╪═════════╡\n",
       "│ A           ┆ 2021-01-01 ┆ curry        ┆ 15    ┆ N      ┆ null    │\n",
       "│ A           ┆ 2021-01-01 ┆ sushi        ┆ 10    ┆ N      ┆ null    │\n",
       "│ A           ┆ 2021-01-07 ┆ curry        ┆ 15    ┆ Y      ┆ 1       │\n",
       "│ A           ┆ 2021-01-10 ┆ ramen        ┆ 12    ┆ Y      ┆ 2       │\n",
       "│ A           ┆ 2021-01-11 ┆ ramen        ┆ 12    ┆ Y      ┆ 3       │\n",
       "│ …           ┆ …          ┆ …            ┆ …     ┆ …      ┆ …       │\n",
       "│ B           ┆ 2021-01-16 ┆ ramen        ┆ 12    ┆ Y      ┆ 2       │\n",
       "│ B           ┆ 2021-02-01 ┆ ramen        ┆ 12    ┆ Y      ┆ 3       │\n",
       "│ C           ┆ 2021-01-01 ┆ ramen        ┆ 12    ┆ N      ┆ null    │\n",
       "│ C           ┆ 2021-01-01 ┆ ramen        ┆ 12    ┆ N      ┆ null    │\n",
       "│ C           ┆ 2021-01-07 ┆ ramen        ┆ 12    ┆ N      ┆ null    │\n",
       "└─────────────┴────────────┴──────────────┴───────┴────────┴─────────┘"
      ]
     },
     "execution_count": 22,
     "metadata": {},
     "output_type": "execute_result"
    }
   ],
   "source": [
    "(sales.join(menu, how='left', on='product_id')\n",
    "      .join(members, how='left', on='customer_id')\n",
    "      .with_columns(\n",
    "          pl.when(pl.col('order_date') >= pl.col('join_date'))\n",
    "            .then(pl.lit('Y'))\n",
    "            .otherwise(pl.lit('N'))\n",
    "            .alias('member')\n",
    "      )\n",
    "      .select(['customer_id', 'order_date', 'product_name', 'price', 'member'])\n",
    "      .sort(['customer_id', 'order_date', 'product_name'])\n",
    "      .with_columns(\n",
    "          pl.when(pl.col('member') == 'Y')\n",
    "            .then(pl.col('order_date').rank('dense').over(['customer_id', 'member'], order_by=['order_date', 'product_name']).alias('ranking'))\n",
    "            .otherwise(pl.lit(None))\n",
    "      )\n",
    ")"
   ]
  }
 ],
 "metadata": {
  "kernelspec": {
   "display_name": "db-butters",
   "language": "python",
   "name": "python3"
  },
  "language_info": {
   "codemirror_mode": {
    "name": "ipython",
    "version": 3
   },
   "file_extension": ".py",
   "mimetype": "text/x-python",
   "name": "python",
   "nbconvert_exporter": "python",
   "pygments_lexer": "ipython3",
   "version": "3.13.3"
  }
 },
 "nbformat": 4,
 "nbformat_minor": 5
}
