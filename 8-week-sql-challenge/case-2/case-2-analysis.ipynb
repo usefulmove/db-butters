{
 "cells": [
  {
   "cell_type": "code",
   "execution_count": 1,
   "id": "31f61ae3",
   "metadata": {},
   "outputs": [],
   "source": [
    "import polars as pl\n",
    "import duckdb"
   ]
  },
  {
   "cell_type": "markdown",
   "id": "08660938",
   "metadata": {},
   "source": [
    "## load data"
   ]
  },
  {
   "cell_type": "code",
   "execution_count": 2,
   "id": "099a10e8",
   "metadata": {},
   "outputs": [],
   "source": [
    "con = duckdb.connect('./case-2.duckdb')"
   ]
  },
  {
   "cell_type": "code",
   "execution_count": null,
   "id": "5987715f",
   "metadata": {},
   "outputs": [],
   "source": [
    "con.sql(\"\"\"\n",
    "--sqlbegin\n",
    "\n",
    "select distinct table_name\n",
    "from information_schema.columns\n",
    "where table_schema = 'pizza_runner'\n",
    "\n",
    "--sqlend\n",
    "\"\"\")"
   ]
  },
  {
   "cell_type": "code",
   "execution_count": 15,
   "id": "2f711697",
   "metadata": {},
   "outputs": [],
   "source": [
    "runners = con.sql(\"select * from pizza_runner.runners\").pl()\n",
    "pizza_names = con.sql(\"select * from pizza_runner.pizza_names\").pl()\n",
    "pizza_toppings = con.sql(\"select * from pizza_runner.pizza_toppings\").pl()\n",
    "runner_orders = con.sql(\"select * from pizza_runner.runner_orders\").pl()\n",
    "customer_orders = con.sql(\"select * from pizza_runner.customer_orders\").pl()\n",
    "pizza_recipes = con.sql(\"select * from pizza_runner.pizza_recipes\").pl()"
   ]
  },
  {
   "cell_type": "markdown",
   "id": "63620f92",
   "metadata": {},
   "source": [
    "## clean data"
   ]
  },
  {
   "cell_type": "code",
   "execution_count": 44,
   "id": "514a8881",
   "metadata": {},
   "outputs": [],
   "source": [
    "clean_customer_orders = customer_orders.with_columns(\n",
    "    pl.when(pl.col('exclusions').is_in(['', 'null']))\n",
    "      .then(pl.lit(None))\n",
    "      .otherwise(pl.col('exclusions'))\n",
    "      .alias('exclusions'),\n",
    "    pl.when(pl.col('extras').is_in(['', 'null']))\n",
    "      .then(pl.lit(None))\n",
    "      .otherwise(pl.col('extras'))\n",
    "      .alias('extras'),\n",
    ")\n",
    "\n",
    "#display(clean_customer_orders)"
   ]
  },
  {
   "cell_type": "code",
   "execution_count": 52,
   "id": "f5fd7076",
   "metadata": {},
   "outputs": [],
   "source": [
    "clean_runner_orders = runner_orders.with_columns(\n",
    "    pl.when(pl.col('pickup_time').is_in(['', 'null']))\n",
    "      .then(pl.lit(None))\n",
    "      .otherwise(pl.col('pickup_time'))\n",
    "      .str.to_datetime(format='%Y-%m-%d %H:%M:%S')\n",
    "      .alias('pickup_time'),\n",
    "    pl.when(pl.col('distance').is_in(['', 'null']))\n",
    "      .then(pl.lit(None))\n",
    "      .otherwise(pl.col('distance'))\n",
    "      .str.replace(r\"[^0-9\\\\.]*$\", \"\")\n",
    "      .cast(pl.Float64)\n",
    "      .alias('distance'),\n",
    "    pl.when(pl.col('duration').is_in(['', 'null']))\n",
    "      .then(pl.lit(None))\n",
    "      .otherwise(pl.col('duration'))\n",
    "      .str.replace(r\"[^0-9\\\\.]*$\", \"\")\n",
    "      .cast(pl.Int64)\n",
    "      .alias('duration'),\n",
    "    pl.when(pl.col('cancellation').is_in(['', 'null']))\n",
    "      .then(pl.lit(None))\n",
    "      .otherwise(pl.col('cancellation'))\n",
    "      .alias('cancellation'),\n",
    ")\n",
    "\n",
    "#display(clean_runner_orders)"
   ]
  },
  {
   "cell_type": "markdown",
   "id": "765b5330",
   "metadata": {},
   "source": [
    "## analysis"
   ]
  },
  {
   "cell_type": "markdown",
   "id": "7ef753a3",
   "metadata": {},
   "source": [
    "## 1. pizzas ordered"
   ]
  },
  {
   "cell_type": "code",
   "execution_count": 59,
   "id": "4d8794d9",
   "metadata": {},
   "outputs": [
    {
     "data": {
      "text/html": [
       "<div><style>\n",
       ".dataframe > thead > tr,\n",
       ".dataframe > tbody > tr {\n",
       "  text-align: right;\n",
       "  white-space: pre-wrap;\n",
       "}\n",
       "</style>\n",
       "<small>shape: (1, 1)</small><table border=\"1\" class=\"dataframe\"><thead><tr><th>pizzas_ordered</th></tr><tr><td>u32</td></tr></thead><tbody><tr><td>14</td></tr></tbody></table></div>"
      ],
      "text/plain": [
       "shape: (1, 1)\n",
       "┌────────────────┐\n",
       "│ pizzas_ordered │\n",
       "│ ---            │\n",
       "│ u32            │\n",
       "╞════════════════╡\n",
       "│ 14             │\n",
       "└────────────────┘"
      ]
     },
     "execution_count": 59,
     "metadata": {},
     "output_type": "execute_result"
    }
   ],
   "source": [
    "clean_customer_orders.select(\n",
    "    pl.col('pizza_id').len()\n",
    "                      .alias('pizzas_ordered')\n",
    ")"
   ]
  },
  {
   "cell_type": "markdown",
   "id": "2425b11c",
   "metadata": {},
   "source": [
    "## 2. number of unique customer orders"
   ]
  },
  {
   "cell_type": "code",
   "execution_count": 61,
   "id": "13cb0de6",
   "metadata": {},
   "outputs": [
    {
     "data": {
      "text/html": [
       "<div><style>\n",
       ".dataframe > thead > tr,\n",
       ".dataframe > tbody > tr {\n",
       "  text-align: right;\n",
       "  white-space: pre-wrap;\n",
       "}\n",
       "</style>\n",
       "<small>shape: (1, 1)</small><table border=\"1\" class=\"dataframe\"><thead><tr><th>customer_orders</th></tr><tr><td>u32</td></tr></thead><tbody><tr><td>5</td></tr></tbody></table></div>"
      ],
      "text/plain": [
       "shape: (1, 1)\n",
       "┌─────────────────┐\n",
       "│ customer_orders │\n",
       "│ ---             │\n",
       "│ u32             │\n",
       "╞═════════════════╡\n",
       "│ 5               │\n",
       "└─────────────────┘"
      ]
     },
     "execution_count": 61,
     "metadata": {},
     "output_type": "execute_result"
    }
   ],
   "source": [
    "clean_customer_orders.select(\n",
    "    pl.col('customer_id').n_unique()\n",
    "                         .alias('customer_orders')\n",
    ")"
   ]
  },
  {
   "cell_type": "markdown",
   "id": "3c67bb10",
   "metadata": {},
   "source": [
    "## 3. number of successful order deliveries by each runner"
   ]
  },
  {
   "cell_type": "code",
   "execution_count": 66,
   "id": "3494554b",
   "metadata": {},
   "outputs": [
    {
     "data": {
      "text/html": [
       "<div><style>\n",
       ".dataframe > thead > tr,\n",
       ".dataframe > tbody > tr {\n",
       "  text-align: right;\n",
       "  white-space: pre-wrap;\n",
       "}\n",
       "</style>\n",
       "<small>shape: (3, 2)</small><table border=\"1\" class=\"dataframe\"><thead><tr><th>runner_id</th><th>orders_delivered</th></tr><tr><td>i32</td><td>u32</td></tr></thead><tbody><tr><td>1</td><td>4</td></tr><tr><td>2</td><td>3</td></tr><tr><td>3</td><td>1</td></tr></tbody></table></div>"
      ],
      "text/plain": [
       "shape: (3, 2)\n",
       "┌───────────┬──────────────────┐\n",
       "│ runner_id ┆ orders_delivered │\n",
       "│ ---       ┆ ---              │\n",
       "│ i32       ┆ u32              │\n",
       "╞═══════════╪══════════════════╡\n",
       "│ 1         ┆ 4                │\n",
       "│ 2         ┆ 3                │\n",
       "│ 3         ┆ 1                │\n",
       "└───────────┴──────────────────┘"
      ]
     },
     "execution_count": 66,
     "metadata": {},
     "output_type": "execute_result"
    }
   ],
   "source": [
    "(clean_runner_orders\n",
    "    .filter(pl.col('cancellation').is_null())\n",
    "    .group_by('runner_id')\n",
    "    .agg(\n",
    "        pl.col('duration').len().alias('orders_delivered')\n",
    "    )\n",
    "    .sort('runner_id')\n",
    ")"
   ]
  }
 ],
 "metadata": {
  "kernelspec": {
   "display_name": "db-butters",
   "language": "python",
   "name": "python3"
  },
  "language_info": {
   "codemirror_mode": {
    "name": "ipython",
    "version": 3
   },
   "file_extension": ".py",
   "mimetype": "text/x-python",
   "name": "python",
   "nbconvert_exporter": "python",
   "pygments_lexer": "ipython3",
   "version": "3.13.3"
  }
 },
 "nbformat": 4,
 "nbformat_minor": 5
}
